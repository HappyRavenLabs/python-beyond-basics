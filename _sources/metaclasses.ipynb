{
 "cells": [
  {
   "cell_type": "markdown",
   "id": "0234ddf2",
   "metadata": {},
   "source": [
    "# Metaclasses\n",
    "\n",
    "````{admonition} Thsis chapter is not ready yet?\n",
    ":class: important\n",
    "Writing a book takes time and for that chapter I did not have enough of it. Please, return later.\n",
    "````"
   ]
  }
 ],
 "metadata": {
  "jupytext": {
   "formats": "md:myst",
   "text_representation": {
    "extension": ".md",
    "format_name": "myst"
   }
  },
  "kernelspec": {
   "display_name": "Python 3",
   "language": "python",
   "name": "python3"
  },
  "source_map": [
   11
  ]
 },
 "nbformat": 4,
 "nbformat_minor": 5
}