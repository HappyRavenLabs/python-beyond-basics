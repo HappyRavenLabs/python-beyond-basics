{
 "cells": [
  {
   "cell_type": "markdown",
   "id": "8f9cbb6e",
   "metadata": {},
   "source": [
    "# Higher-order Functions"
   ]
  },
  {
   "cell_type": "code",
   "execution_count": null,
   "id": "bc6a0be8",
   "metadata": {
    "tags": [
     "remove-input"
    ]
   },
   "outputs": [],
   "source": [
    "import styles\n",
    "print()\n",
    "\n",
    "styles.apply_style()"
   ]
  }
 ],
 "metadata": {
  "jupytext": {
   "formats": "md:myst",
   "text_representation": {
    "extension": ".md",
    "format_name": "myst"
   }
  },
  "kernelspec": {
   "display_name": "Python 3",
   "language": "python",
   "name": "python3"
  },
  "source_map": [
   11,
   15
  ]
 },
 "nbformat": 4,
 "nbformat_minor": 5
}